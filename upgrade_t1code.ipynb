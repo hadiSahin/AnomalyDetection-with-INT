{
 "cells": [
  {
   "cell_type": "code",
   "execution_count": 1,
   "metadata": {},
   "outputs": [
    {
     "name": "stdout",
     "output_type": "stream",
     "text": [
      "/Users/hadisahin/Documents/AnomalyDetection-with-INT-master/myenv/lib/python3.9/site-packages/urllib3/__init__.py:34: NotOpenSSLWarning: urllib3 v2.0 only supports OpenSSL 1.1.1+, currently the 'ssl' module is compiled with 'LibreSSL 2.8.3'. See: https://github.com/urllib3/urllib3/issues/3020\n",
      "  warnings.warn(\n",
      "INFO line 36:2: Renamed 'tf.reset_default_graph' to 'tf.compat.v1.reset_default_graph'\n",
      "INFO line 37:4: Renamed 'tf.placeholder' to 'tf.compat.v1.placeholder'\n",
      "INFO line 38:4: Renamed 'tf.placeholder' to 'tf.compat.v1.placeholder'\n",
      "INFO line 40:15: Renamed 'tf.contrib.rnn.BasicRNNCell' to 'tf.compat.v1.nn.rnn_cell.BasicRNNCell'\n",
      "INFO line 41:23: Renamed 'tf.nn.dynamic_rnn' to 'tf.compat.v1.nn.dynamic_rnn'\n",
      "INFO line 44:18: Renamed 'tf.layers.dense' to 'tf.compat.v1.layers.dense'\n",
      "INFO line 48:14: Renamed 'tf.train.AdamOptimizer' to 'tf.compat.v1.train.AdamOptimizer'\n",
      "INFO line 50:7: Renamed 'tf.Session' to 'tf.compat.v1.Session'\n",
      "INFO line 51:9: Renamed 'tf.train.Saver' to 'tf.compat.v1.train.Saver'\n",
      "INFO line 51:24: Renamed 'tf.global_variables' to 'tf.compat.v1.global_variables'\n",
      "INFO line 93:1: Renamed 'tf.reset_default_graph' to 'tf.compat.v1.reset_default_graph'\n",
      "INFO line 95:3: Renamed 'tf.placeholder' to 'tf.compat.v1.placeholder'\n",
      "INFO line 96:3: Renamed 'tf.placeholder' to 'tf.compat.v1.placeholder'\n",
      "INFO line 98:14: Renamed 'tf.contrib.rnn.BasicRNNCell' to 'tf.compat.v1.nn.rnn_cell.BasicRNNCell'\n",
      "INFO line 99:22: Renamed 'tf.nn.dynamic_rnn' to 'tf.compat.v1.nn.dynamic_rnn'\n",
      "INFO line 102:17: Renamed 'tf.layers.dense' to 'tf.compat.v1.layers.dense'\n",
      "INFO line 106:13: Renamed 'tf.train.AdamOptimizer' to 'tf.compat.v1.train.AdamOptimizer'\n",
      "INFO line 109:6: Renamed 'tf.global_variables_initializer' to 'tf.compat.v1.global_variables_initializer'\n",
      "INFO line 114:6: Renamed 'tf.Session' to 'tf.compat.v1.Session'\n",
      "INFO line 116:9: Renamed 'tf.train.Saver' to 'tf.compat.v1.train.Saver'\n",
      "INFO line 116:24: Renamed 'tf.global_variables' to 'tf.compat.v1.global_variables'\n",
      "INFO line 166:11: Renamed 'tf.train.Saver' to 'tf.compat.v1.train.Saver'\n",
      "WARNING line 167:15: *.save requires manual check. (This warning is only applicable if the code saves a tf.Keras model) Keras model.save now saves to the Tensorflow SavedModel format by default, instead of HDF5. To continue saving to HDF5, add the argument save_format='h5' to the save() function.\n",
      "TensorFlow 2.0 Upgrade Script\n",
      "-----------------------------\n",
      "Converted 1 files\n",
      "Detected 1 issues that require attention\n",
      "--------------------------------------------------------------------------------\n",
      "--------------------------------------------------------------------------------\n",
      "File: rnn.py\n",
      "--------------------------------------------------------------------------------\n",
      "rnn.py:167:15: WARNING: *.save requires manual check. (This warning is only applicable if the code saves a tf.Keras model) Keras model.save now saves to the Tensorflow SavedModel format by default, instead of HDF5. To continue saving to HDF5, add the argument save_format='h5' to the save() function.\n",
      "\n",
      "\n",
      "Make sure to read the detailed log 'report.txt'\n",
      "\n"
     ]
    }
   ],
   "source": [
    "!tf_upgrade_v2 \\\n",
    "  --infile rnn.py \\\n",
    "  --outfile rnn_v2.py"
   ]
  },
  {
   "cell_type": "code",
   "execution_count": null,
   "metadata": {},
   "outputs": [],
   "source": [
    "# Save Influx db as pickle. \n",
    "# The result is a list of dictionary with next keys.\n",
    "# If you use the save_as_list option, it will return list with left index.\n",
    "# Also, if you use the save_as_list option, duration will be turned to int \n",
    "# with unit as sencond\n",
    "#\n",
    "#   Flow_id : string with form of 'source_ip>dest_ip'. ex)'10.0.0.1>10.0.0.2'\n",
    "#   Start_time : datetime.datetime object\n",
    "# 0 Anomaly : 0 or 1, int\n",
    "# 1 Path : List of string. Path could be []. ex)['11:22:12', '11:21:12']\n",
    "# 2 Protocol : int. 17 for UDP.\n",
    "# 3 Duration : datetime.timedelta object. max value could be given by datetime.timedelta(0,args.max_duration, 0)\n",
    "# 4 Hop_latency : None if not observed, else int.\n",
    "# 5 Egress_time : None if not observed, else int.\n",
    "# 6 Flow_latency : None if not observed, else int.\n",
    "# 7 Sink_time : None if not observed, else int.\n",
    "# 8 Port_tx_utilize : None if not observed, else int.\n",
    "# 9 Queue_occupancy : None if not observed, else int."
   ]
  },
  {
   "cell_type": "code",
   "execution_count": 1,
   "metadata": {},
   "outputs": [],
   "source": [
    "import pickle as pkl\n",
    "import pandas as pd\n",
    "with open(\"flow_data_list.pkl\", \"rb\") as f:\n",
    "    object = pkl.load(f)\n",
    "    \n",
    "df = pd.DataFrame(object)\n",
    "# df.to_csv(r'file.csv')"
   ]
  },
  {
   "cell_type": "code",
   "execution_count": 5,
   "metadata": {},
   "outputs": [
    {
     "data": {
      "text/plain": [
       "(   anomaly        path  protocol  duration  hop_latency  egress_time  \\\n",
       " 0        0  [11:22:12]        17  1.040046        320.0          0.0   \n",
       " 1        0  [11:22:12]        17  1.010567        225.0          0.0   \n",
       " 2        0  [11:22:12]        17  1.011491        391.0          0.0   \n",
       " 3        0  [11:22:12]        17  1.009473        330.0          0.0   \n",
       " 4        0  [11:22:12]        17  1.008181        249.0          0.0   \n",
       " \n",
       "    flow_latency  sink_time  port_tx_utilize  queue_occupancy  \n",
       " 0         971.0        0.0              0.0              0.0  \n",
       " 1         853.0        0.0              0.0              0.0  \n",
       " 2         715.0        0.0              0.0              0.0  \n",
       " 3         819.0        0.0              0.0              0.0  \n",
       " 4         669.0        0.0              0.0              0.0  ,\n",
       "        anomaly              path  protocol  duration  hop_latency  \\\n",
       " 44920        1  [11:11:21:21:12]        17  1.026923     509348.0   \n",
       " 44921        1  [11:11:21:21:12]        17  1.015473     548111.0   \n",
       " 44922        1  [11:11:22:22:12]        17  1.016323     571302.0   \n",
       " 44923        1  [11:11:22:22:12]        17  0.000000     498777.0   \n",
       " 44924        1  [11:11:21:21:12]        17  0.000000     561437.0   \n",
       " \n",
       "        egress_time  flow_latency  sink_time  port_tx_utilize  queue_occupancy  \n",
       " 44920          0.0     1087634.0        0.0              0.0             13.0  \n",
       " 44921          0.0     1000675.0        0.0              0.0             13.0  \n",
       " 44922          0.0     1168223.0        0.0              0.0             13.0  \n",
       " 44923          0.0           NaN        0.0              0.0             13.0  \n",
       " 44924          0.0           NaN        0.0              0.0             14.0  ,\n",
       " (44925, 10))"
      ]
     },
     "execution_count": 5,
     "metadata": {},
     "output_type": "execute_result"
    }
   ],
   "source": [
    "df.columns = [\n",
    "    \"anomaly\",\"path\",\"protocol\", \"duration\",\"hop_latency\",\"egress_time\",\n",
    "    \"flow_latency\",\"sink_time\",\"port_tx_utilize\",\"queue_occupancy\"\n",
    "]\n",
    "df.head(),df.tail(), df.shape, #df.describe()"
   ]
  },
  {
   "cell_type": "code",
   "execution_count": 5,
   "metadata": {},
   "outputs": [
    {
     "data": {
      "text/html": [
       "<div>\n",
       "<style scoped>\n",
       "    .dataframe tbody tr th:only-of-type {\n",
       "        vertical-align: middle;\n",
       "    }\n",
       "\n",
       "    .dataframe tbody tr th {\n",
       "        vertical-align: top;\n",
       "    }\n",
       "\n",
       "    .dataframe thead th {\n",
       "        text-align: right;\n",
       "    }\n",
       "</style>\n",
       "<table border=\"1\" class=\"dataframe\">\n",
       "  <thead>\n",
       "    <tr style=\"text-align: right;\">\n",
       "      <th></th>\n",
       "      <th>anomaly</th>\n",
       "      <th>protocol</th>\n",
       "      <th>duration</th>\n",
       "      <th>hop_latency</th>\n",
       "      <th>egress_time</th>\n",
       "      <th>flow_latency</th>\n",
       "      <th>sink_time</th>\n",
       "      <th>port_tx_utilize</th>\n",
       "      <th>queue_occupancy</th>\n",
       "    </tr>\n",
       "  </thead>\n",
       "  <tbody>\n",
       "    <tr>\n",
       "      <th>count</th>\n",
       "      <td>44925.000000</td>\n",
       "      <td>44925.0</td>\n",
       "      <td>44925.000000</td>\n",
       "      <td>2.342100e+04</td>\n",
       "      <td>23421.0</td>\n",
       "      <td>3.179000e+03</td>\n",
       "      <td>23342.0</td>\n",
       "      <td>23339.0</td>\n",
       "      <td>23328.000000</td>\n",
       "    </tr>\n",
       "    <tr>\n",
       "      <th>mean</th>\n",
       "      <td>0.029850</td>\n",
       "      <td>17.0</td>\n",
       "      <td>0.111526</td>\n",
       "      <td>2.633574e+04</td>\n",
       "      <td>0.0</td>\n",
       "      <td>2.699547e+05</td>\n",
       "      <td>0.0</td>\n",
       "      <td>0.0</td>\n",
       "      <td>13.977066</td>\n",
       "    </tr>\n",
       "    <tr>\n",
       "      <th>std</th>\n",
       "      <td>0.170175</td>\n",
       "      <td>0.0</td>\n",
       "      <td>0.319728</td>\n",
       "      <td>1.790335e+05</td>\n",
       "      <td>0.0</td>\n",
       "      <td>6.378507e+05</td>\n",
       "      <td>0.0</td>\n",
       "      <td>0.0</td>\n",
       "      <td>2.815490</td>\n",
       "    </tr>\n",
       "    <tr>\n",
       "      <th>min</th>\n",
       "      <td>0.000000</td>\n",
       "      <td>17.0</td>\n",
       "      <td>0.000000</td>\n",
       "      <td>5.900000e+01</td>\n",
       "      <td>0.0</td>\n",
       "      <td>2.290000e+02</td>\n",
       "      <td>0.0</td>\n",
       "      <td>0.0</td>\n",
       "      <td>0.000000</td>\n",
       "    </tr>\n",
       "    <tr>\n",
       "      <th>25%</th>\n",
       "      <td>0.000000</td>\n",
       "      <td>17.0</td>\n",
       "      <td>0.000000</td>\n",
       "      <td>2.250000e+02</td>\n",
       "      <td>0.0</td>\n",
       "      <td>5.460000e+02</td>\n",
       "      <td>0.0</td>\n",
       "      <td>0.0</td>\n",
       "      <td>14.000000</td>\n",
       "    </tr>\n",
       "    <tr>\n",
       "      <th>50%</th>\n",
       "      <td>0.000000</td>\n",
       "      <td>17.0</td>\n",
       "      <td>0.000000</td>\n",
       "      <td>3.900000e+02</td>\n",
       "      <td>0.0</td>\n",
       "      <td>9.200000e+02</td>\n",
       "      <td>0.0</td>\n",
       "      <td>0.0</td>\n",
       "      <td>14.000000</td>\n",
       "    </tr>\n",
       "    <tr>\n",
       "      <th>75%</th>\n",
       "      <td>0.000000</td>\n",
       "      <td>17.0</td>\n",
       "      <td>0.000000</td>\n",
       "      <td>7.570000e+02</td>\n",
       "      <td>0.0</td>\n",
       "      <td>4.239260e+05</td>\n",
       "      <td>0.0</td>\n",
       "      <td>0.0</td>\n",
       "      <td>14.000000</td>\n",
       "    </tr>\n",
       "    <tr>\n",
       "      <th>max</th>\n",
       "      <td>1.000000</td>\n",
       "      <td>17.0</td>\n",
       "      <td>1.373863</td>\n",
       "      <td>8.645351e+06</td>\n",
       "      <td>0.0</td>\n",
       "      <td>1.179907e+07</td>\n",
       "      <td>0.0</td>\n",
       "      <td>0.0</td>\n",
       "      <td>50.000000</td>\n",
       "    </tr>\n",
       "  </tbody>\n",
       "</table>\n",
       "</div>"
      ],
      "text/plain": [
       "            anomaly  protocol      duration   hop_latency  egress_time  \\\n",
       "count  44925.000000   44925.0  44925.000000  2.342100e+04      23421.0   \n",
       "mean       0.029850      17.0      0.111526  2.633574e+04          0.0   \n",
       "std        0.170175       0.0      0.319728  1.790335e+05          0.0   \n",
       "min        0.000000      17.0      0.000000  5.900000e+01          0.0   \n",
       "25%        0.000000      17.0      0.000000  2.250000e+02          0.0   \n",
       "50%        0.000000      17.0      0.000000  3.900000e+02          0.0   \n",
       "75%        0.000000      17.0      0.000000  7.570000e+02          0.0   \n",
       "max        1.000000      17.0      1.373863  8.645351e+06          0.0   \n",
       "\n",
       "       flow_latency  sink_time  port_tx_utilize  queue_occupancy  \n",
       "count  3.179000e+03    23342.0          23339.0     23328.000000  \n",
       "mean   2.699547e+05        0.0              0.0        13.977066  \n",
       "std    6.378507e+05        0.0              0.0         2.815490  \n",
       "min    2.290000e+02        0.0              0.0         0.000000  \n",
       "25%    5.460000e+02        0.0              0.0        14.000000  \n",
       "50%    9.200000e+02        0.0              0.0        14.000000  \n",
       "75%    4.239260e+05        0.0              0.0        14.000000  \n",
       "max    1.179907e+07        0.0              0.0        50.000000  "
      ]
     },
     "execution_count": 5,
     "metadata": {},
     "output_type": "execute_result"
    }
   ],
   "source": [
    "df.describe()"
   ]
  },
  {
   "cell_type": "code",
   "execution_count": 18,
   "metadata": {},
   "outputs": [],
   "source": [
    "import pickle as pkl\n",
    "import pandas as pd\n",
    "with open(\"data/original_flow_train.pkl\", \"rb\") as f:\n",
    "    object = pkl.load(f)\n",
    "    \n",
    "df = pd.DataFrame(object)"
   ]
  },
  {
   "cell_type": "code",
   "execution_count": 19,
   "metadata": {},
   "outputs": [
    {
     "data": {
      "text/plain": [
       "(   0           1   2    3      4    5   6    7    8     9\n",
       " 0  0  [13:21:12]  17  0.0    NaN  NaN NaN  0.0  0.0  14.0\n",
       " 1  0          []  17  0.0  118.0  0.0 NaN  NaN  NaN   NaN\n",
       " 2  0  [11:23:12]  17  0.0    NaN  NaN NaN  0.0  0.0  14.0\n",
       " 3  0          []  17  0.0  295.0  0.0 NaN  NaN  NaN   NaN\n",
       " 4  0          []  17  0.0  470.0  0.0 NaN  NaN  NaN   NaN,\n",
       " (39934, 10))"
      ]
     },
     "execution_count": 19,
     "metadata": {},
     "output_type": "execute_result"
    }
   ],
   "source": [
    "df.head(), df.shape"
   ]
  },
  {
   "cell_type": "code",
   "execution_count": 20,
   "metadata": {},
   "outputs": [
    {
     "data": {
      "text/plain": [
       "(   0           1   2    3   4   5   6  7    8     9\n",
       " 0  0  [11:23:12]  17  0.0 NaN NaN NaN  0  0.0  14.0\n",
       " 1  0  [13:21:12]  17  0.0 NaN NaN NaN  0  0.0  15.0\n",
       " 2  0  [13:21:12]  17  0.0 NaN NaN NaN  0  0.0  15.0\n",
       " 3  0  [13:21:12]  17  0.0 NaN NaN NaN  0  0.0  15.0\n",
       " 4  0  [11:23:12]  17  0.0 NaN NaN NaN  0  0.0  14.0,\n",
       " (4991, 10))"
      ]
     },
     "execution_count": 20,
     "metadata": {},
     "output_type": "execute_result"
    }
   ],
   "source": [
    "import pickle as pkl\n",
    "import pandas as pd\n",
    "with open(\"data/original_flow_test.pkl\", \"rb\") as f:\n",
    "    object = pkl.load(f)\n",
    "    \n",
    "df = pd.DataFrame(object)\n",
    "df.head(), df.shape"
   ]
  }
 ],
 "metadata": {
  "kernelspec": {
   "display_name": "myenv",
   "language": "python",
   "name": "python3"
  },
  "language_info": {
   "codemirror_mode": {
    "name": "ipython",
    "version": 3
   },
   "file_extension": ".py",
   "mimetype": "text/x-python",
   "name": "python",
   "nbconvert_exporter": "python",
   "pygments_lexer": "ipython3",
   "version": "3.9.6"
  }
 },
 "nbformat": 4,
 "nbformat_minor": 2
}
